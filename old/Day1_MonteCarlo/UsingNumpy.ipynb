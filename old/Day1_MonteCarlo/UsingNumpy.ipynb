{
 "cells": [
  {
   "cell_type": "code",
   "execution_count": 1,
   "metadata": {
    "collapsed": true
   },
   "outputs": [],
   "source": [
    "import numpy as np\n",
    "import pandas as pd"
   ]
  },
  {
   "cell_type": "markdown",
   "metadata": {},
   "source": [
    "We will study the eigenvalue distribution of random symmetric matrices using NumPy. Our objective in this notebook will be to generate data that will be analyzed in a separate notebook. \n",
    "\n",
    "NumPy will be used to compute the data, which will be stored in a Pandas database. We will then save the data in a CSV file."
   ]
  },
  {
   "cell_type": "markdown",
   "metadata": {},
   "source": [
    "## Demonstration"
   ]
  },
  {
   "cell_type": "code",
   "execution_count": 11,
   "metadata": {},
   "outputs": [
    {
     "name": "stdout",
     "output_type": "stream",
     "text": [
      "[[-1.38536311  1.53835314 -0.52544509 -0.49950159 -0.30821136]\n",
      " [-0.08797293 -0.18350023 -0.43924762 -0.87747875 -0.48820482]\n",
      " [-0.88149923 -0.76102983 -2.28580746 -0.34999345  0.4993087 ]\n",
      " [-0.31777904  0.22885268 -0.04546449 -0.45714185  0.09402718]\n",
      " [ 1.63776082 -0.96400886 -0.11462852  0.51294557  0.90830314]]\n"
     ]
    }
   ],
   "source": [
    "n=5\n",
    "M=np.random.randn(n,n)\n",
    "print(M)"
   ]
  },
  {
   "cell_type": "code",
   "execution_count": 12,
   "metadata": {},
   "outputs": [
    {
     "name": "stdout",
     "output_type": "stream",
     "text": [
      "[[-1.38536311  0.72519011 -0.70347216 -0.40864032  0.66477473]\n",
      " [ 0.72519011 -0.18350023 -0.60013872 -0.32431303 -0.72610684]\n",
      " [-0.70347216 -0.60013872 -2.28580746 -0.19772897  0.19234009]\n",
      " [-0.40864032 -0.32431303 -0.19772897 -0.45714185  0.30348637]\n",
      " [ 0.66477473 -0.72610684  0.19234009  0.30348637  0.90830314]]\n"
     ]
    }
   ],
   "source": [
    "M=(M+M.T)/2\n",
    "print(M)"
   ]
  },
  {
   "cell_type": "code",
   "execution_count": 13,
   "metadata": {},
   "outputs": [
    {
     "name": "stdout",
     "output_type": "stream",
     "text": [
      "[-2.81657473 -1.8477462  -0.54504664  0.39409121  1.41176684]\n"
     ]
    }
   ],
   "source": [
    "w=np.linalg.eigvalsh(M) #Hermetian eigenvalues\n",
    "print(w)"
   ]
  },
  {
   "cell_type": "markdown",
   "metadata": {},
   "source": [
    "## Data generation\n",
    "\n",
    "Use a Python dictionary to store our results. \n",
    "\n",
    "Each of the elements of the dictionary must be a list of the same length."
   ]
  },
  {
   "cell_type": "code",
   "execution_count": 15,
   "metadata": {
    "collapsed": true
   },
   "outputs": [],
   "source": [
    "df={'n':[],\n",
    "    'sample':[],\n",
    "    'eigenvalues':[]\n",
    "   }\n",
    "nsample=40\n",
    "for n in [5,10,20,40,100]:\n",
    "  for sample in range(nsample):\n",
    "    M=np.random.randn(n,n)\n",
    "    M=M+M.T\n",
    "    w=np.linalg.eigvalsh(M)\n",
    "    df['n']+=[n]*n # this makes a list n long \n",
    "    df['sample']+=[sample]*n\n",
    "    df['eigenvalues']+=list(w)\n",
    "  "
   ]
  },
  {
   "cell_type": "code",
   "execution_count": 16,
   "metadata": {},
   "outputs": [
    {
     "name": "stdout",
     "output_type": "stream",
     "text": [
      "      eigenvalues    n  sample\n",
      "0       -6.439651    5       0\n",
      "1       -2.662076    5       0\n",
      "2        0.647313    5       0\n",
      "3        2.848533    5       0\n",
      "4        5.324618    5       0\n",
      "5       -5.621055    5       1\n",
      "6       -2.836527    5       1\n",
      "7        0.013104    5       1\n",
      "8        0.796624    5       1\n",
      "9        4.226669    5       1\n",
      "10      -5.071428    5       2\n",
      "11      -4.537194    5       2\n",
      "12      -1.309180    5       2\n",
      "13       1.800425    5       2\n",
      "14       5.276495    5       2\n",
      "15      -4.867597    5       3\n",
      "16      -1.407041    5       3\n",
      "17      -0.238052    5       3\n",
      "18       0.984171    5       3\n",
      "19       3.462300    5       3\n",
      "20      -1.808912    5       4\n",
      "21       0.109335    5       4\n",
      "22       3.773356    5       4\n",
      "23       4.394327    5       4\n",
      "24       8.506026    5       4\n",
      "25      -2.488616    5       5\n",
      "26      -1.205746    5       5\n",
      "27       1.570737    5       5\n",
      "28       3.182016    5       5\n",
      "29       3.968422    5       5\n",
      "...           ...  ...     ...\n",
      "6970     9.529757  100      39\n",
      "6971     9.909293  100      39\n",
      "6972    10.779371  100      39\n",
      "6973    10.916367  100      39\n",
      "6974    11.351546  100      39\n",
      "6975    11.858835  100      39\n",
      "6976    12.809892  100      39\n",
      "6977    13.168151  100      39\n",
      "6978    13.546336  100      39\n",
      "6979    14.218492  100      39\n",
      "6980    14.723035  100      39\n",
      "6981    15.051432  100      39\n",
      "6982    15.653864  100      39\n",
      "6983    16.163997  100      39\n",
      "6984    16.447183  100      39\n",
      "6985    16.718269  100      39\n",
      "6986    17.829875  100      39\n",
      "6987    18.505970  100      39\n",
      "6988    18.614680  100      39\n",
      "6989    18.966225  100      39\n",
      "6990    19.725239  100      39\n",
      "6991    20.158388  100      39\n",
      "6992    21.498034  100      39\n",
      "6993    21.936196  100      39\n",
      "6994    22.501198  100      39\n",
      "6995    23.312727  100      39\n",
      "6996    24.225673  100      39\n",
      "6997    24.369155  100      39\n",
      "6998    25.660122  100      39\n",
      "6999    27.114885  100      39\n",
      "\n",
      "[7000 rows x 3 columns]\n"
     ]
    }
   ],
   "source": [
    "df=pd.DataFrame(df)\n",
    "df.to_csv(\"random_matrix.csv\",index=False)\n",
    "print(df)"
   ]
  },
  {
   "cell_type": "code",
   "execution_count": null,
   "metadata": {
    "collapsed": true
   },
   "outputs": [],
   "source": []
  }
 ],
 "metadata": {
  "kernelspec": {
   "display_name": "Python 3",
   "language": "python",
   "name": "python3"
  },
  "language_info": {
   "codemirror_mode": {
    "name": "ipython",
    "version": 3
   },
   "file_extension": ".py",
   "mimetype": "text/x-python",
   "name": "python",
   "nbconvert_exporter": "python",
   "pygments_lexer": "ipython3",
   "version": "3.6.1"
  }
 },
 "nbformat": 4,
 "nbformat_minor": 2
}
